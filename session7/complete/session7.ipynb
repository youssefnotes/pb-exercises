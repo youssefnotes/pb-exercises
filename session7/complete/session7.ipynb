{
 "cells": [
  {
   "cell_type": "code",
   "execution_count": 1,
   "metadata": {},
   "outputs": [],
   "source": [
    "# import everything and define a test runner function\n",
    "from importlib import reload\n",
    "from helper import run_test\n",
    "\n",
    "import block\n",
    "import ecc\n",
    "import helper\n",
    "import network\n",
    "import script\n",
    "import tx"
   ]
  },
  {
   "cell_type": "code",
   "execution_count": 2,
   "metadata": {},
   "outputs": [
    {
     "data": {
      "text/plain": [
       "b'8b30c5ba100f6f2e5ad1e2a742e5020491240f8eb514fe97c713c31718ad7ecd'"
      ]
     },
     "execution_count": 2,
     "metadata": {},
     "output_type": "execute_result"
    }
   ],
   "source": [
    "# Merkle Parent Example\n",
    "\n",
    "from binascii import hexlify, unhexlify\n",
    "from helper import double_sha256\n",
    "\n",
    "tx_hash0 = unhexlify('c117ea8ec828342f4dfb0ad6bd140e03a50720ece40169ee38bdc15d9eb64cf5')\n",
    "tx_hash1 = unhexlify('c131474164b412e3406696da1ee20ab0fc9bf41c8f05fa8ceea7a08d672d7cc5')\n",
    "\n",
    "merkle_parent = double_sha256(tx_hash0+tx_hash1)\n",
    "hexlify(merkle_parent)"
   ]
  },
  {
   "cell_type": "code",
   "execution_count": 13,
   "metadata": {},
   "outputs": [
    {
     "name": "stdout",
     "output_type": "stream",
     "text": [
      "2535400\n",
      "b'v\\xa9\\x14\\xaa+\\x85\\xd4uc\\xaf\\x8e\\xa5\\xb1\\xa1x\\t\\xcb(\\xe6m\\x0c\\x9b\\x00\\x88\\xac'\n"
     ]
    },
    {
     "data": {
      "text/plain": [
       "False"
      ]
     },
     "execution_count": 13,
     "metadata": {},
     "output_type": "execute_result"
    }
   ],
   "source": [
    "reload(tx)\n",
    "reload(ecc)\n",
    "reload(helper)\n",
    "\n",
    "from binascii import unhexlify\n",
    "from io import BytesIO\n",
    "\n",
    "raw_tx = unhexlify('0100000001a88d2263ec45751651480e9f9882dc9d1ff9c78a168589d4726422c8db2e406b000000006b483045022100b87a90a5d8ec1377d7a968e5aa191425b851997f5ee0438332e3473a2a3b35b502201f2aa45f948589dcb56e6ed2e357cb21733510d096cd61ae8bbd5d3d2bf01935412102bfaababf1ce5f56ec420dffdcfdb33cdc487eba7505ae6d7a8fe2bb89f61024cffffffff015ea82600000000001976a9140839c0f775141b1b7982891c1394a1c28278b8d288ac00000000')\n",
    "stream = BytesIO(raw_tx)\n",
    "t = tx.Tx.parse(stream)\n",
    "input_index = 0\n",
    "tx_in= t.tx_ins[input_index]\n",
    "point = ecc.S256Point.parse(tx_in.sec_pubkey())\n",
    "der, sighash = tx_in.der_signature()\n",
    "sig = ecc.Signature.parse(der)\n",
    "sha = helper.double_sha256(t.segwit_serialization(input_index, sighash))\n",
    "z = int.from_bytes(sha, 'big')\n",
    "point.verify(z, sig)"
   ]
  },
  {
   "cell_type": "markdown",
   "metadata": {},
   "source": [
    "### Exercise 1\n",
    "\n",
    "#### 1.1. Calculate the Merkle parent of these hashes:\n",
    "```\n",
    "f391da6ecfeed1814efae39e7fcb3838ae0b02c02ae7d0a5848a66947c0727b0\n",
    "3d238a92a94532b946c90e19c49351c763696cff3db400485b813aecb8a13181\n",
    "```\n",
    "\n",
    "#### 1.2. Make [this test](/edit/session7/helper.py) pass\n",
    "```\n",
    "helper.py:HelperTest:test_merkle_parent\n",
    "```"
   ]
  },
  {
   "cell_type": "code",
   "execution_count": 3,
   "metadata": {},
   "outputs": [
    {
     "data": {
      "text/plain": [
       "b'7f4e6f9e224e20fda0ae4c44114237f97cd35aca38d83081c9bfd41feb907800'"
      ]
     },
     "execution_count": 3,
     "metadata": {},
     "output_type": "execute_result"
    }
   ],
   "source": [
    "# Exercise 1.1\n",
    "\n",
    "from binascii import hexlify, unhexlify\n",
    "from helper import double_sha256\n",
    "\n",
    "hex_hash1 = 'f391da6ecfeed1814efae39e7fcb3838ae0b02c02ae7d0a5848a66947c0727b0'\n",
    "hex_hash2 = '3d238a92a94532b946c90e19c49351c763696cff3db400485b813aecb8a13181'\n",
    "\n",
    "# unhexlify to get the bin hashes\n",
    "hash1 = unhexlify(hex_hash1)\n",
    "hash2 = unhexlify(hex_hash2)\n",
    "# double_sha256 the combination\n",
    "parent = double_sha256(hash1+hash2)\n",
    "# hexlify to see the result\n",
    "hexlify(parent)"
   ]
  },
  {
   "cell_type": "code",
   "execution_count": 4,
   "metadata": {},
   "outputs": [
    {
     "name": "stderr",
     "output_type": "stream",
     "text": [
      ".\n",
      "----------------------------------------------------------------------\n",
      "Ran 1 test in 0.020s\n",
      "\n",
      "OK\n"
     ]
    }
   ],
   "source": [
    "# Exercise 1.2\n",
    "\n",
    "reload(helper)\n",
    "run_test(helper.HelperTest('test_merkle_parent'))"
   ]
  },
  {
   "cell_type": "code",
   "execution_count": 5,
   "metadata": {},
   "outputs": [
    {
     "name": "stdout",
     "output_type": "stream",
     "text": [
      "[b'8b30c5ba100f6f2e5ad1e2a742e5020491240f8eb514fe97c713c31718ad7ecd', b'7f4e6f9e224e20fda0ae4c44114237f97cd35aca38d83081c9bfd41feb907800', b'11d16762bb5cfd315de66615182c9560aa2b00baca0b4a14aedd3b0c16779b1e']\n"
     ]
    }
   ],
   "source": [
    "# Merkle Parent Level Example\n",
    "\n",
    "from binascii import hexlify, unhexlify\n",
    "from helper import double_sha256, flip_endian, merkle_parent\n",
    "hex_hashes = [\n",
    "    'c117ea8ec828342f4dfb0ad6bd140e03a50720ece40169ee38bdc15d9eb64cf5',\n",
    "    'c131474164b412e3406696da1ee20ab0fc9bf41c8f05fa8ceea7a08d672d7cc5',\n",
    "    'f391da6ecfeed1814efae39e7fcb3838ae0b02c02ae7d0a5848a66947c0727b0',\n",
    "    '3d238a92a94532b946c90e19c49351c763696cff3db400485b813aecb8a13181',\n",
    "    '10092f2633be5f3ce349bf9ddbde36caa3dd10dfa0ec8106bce23acbff637dae',\n",
    "    'b13a750047bc0bdceb2473e5fe488c2596d7a7124b4e716fdd29b046ef99bbf0',\n",
    "]\n",
    "hashes = [unhexlify(x) for x in hex_hashes]\n",
    "parent_level = []\n",
    "for i in range(0, len(hex_hashes), 2):\n",
    "    parent_level.append(merkle_parent(hashes[i], hashes[i+1]))\n",
    "print([hexlify(x) for x in parent_level])"
   ]
  },
  {
   "cell_type": "markdown",
   "metadata": {},
   "source": [
    "### Exercise 2\n",
    "\n",
    "#### 2.1. Calculate the next Merkle Parent Level given these hashes\n",
    "```\n",
    "8b30c5ba100f6f2e5ad1e2a742e5020491240f8eb514fe97c713c31718ad7ecd\n",
    "7f4e6f9e224e20fda0ae4c44114237f97cd35aca38d83081c9bfd41feb907800\n",
    "ade48f2bbb57318cc79f3a8678febaa827599c509dce5940602e54c7733332e7\n",
    "68b3e2ab8182dfd646f13fdf01c335cf32476482d963f5cd94e934e6b3401069\n",
    "43e7274e77fbe8e5a42a8fb58f7decdb04d521f319f332d88e6b06f8e6c09e27\n",
    "4f492e893bf854111c36cb5eff4dccbdd51b576e1cfdc1b84b456cd1c0403ccb\n",
    "```\n",
    "\n",
    "#### 2.2. Make [this test](/edit/session7/helper.py) pass.\n",
    "```\n",
    "helper.py:HelperTest:test_merkle_parent_level0\n",
    "```"
   ]
  },
  {
   "cell_type": "code",
   "execution_count": 6,
   "metadata": {},
   "outputs": [
    {
     "name": "stdout",
     "output_type": "stream",
     "text": [
      "b'26906cb2caeb03626102f7606ea332784281d5d20e2b4839fbb3dbb37262dbc1'\n",
      "b'717a0d17538ff5ad2c020bab38bdcde66e63f3daef88f89095f344918d5d4f96'\n",
      "b'd20629030c7e48e778c1c837d91ebadc2f2ee319a0a0a461f4a9538b5cae2a69'\n"
     ]
    }
   ],
   "source": [
    "# Exercise 2.1\n",
    "\n",
    "from binascii import hexlify, unhexlify\n",
    "from helper import merkle_parent\n",
    "\n",
    "hex_hashes = [\n",
    "    '8b30c5ba100f6f2e5ad1e2a742e5020491240f8eb514fe97c713c31718ad7ecd',\n",
    "    '7f4e6f9e224e20fda0ae4c44114237f97cd35aca38d83081c9bfd41feb907800',\n",
    "    'ade48f2bbb57318cc79f3a8678febaa827599c509dce5940602e54c7733332e7',\n",
    "    '68b3e2ab8182dfd646f13fdf01c335cf32476482d963f5cd94e934e6b3401069',\n",
    "    '43e7274e77fbe8e5a42a8fb58f7decdb04d521f319f332d88e6b06f8e6c09e27',\n",
    "    '4f492e893bf854111c36cb5eff4dccbdd51b576e1cfdc1b84b456cd1c0403ccb',\n",
    "]\n",
    "\n",
    "# unhexlify to get all the hashes in binary\n",
    "hashes = [unhexlify(h) for h in hex_hashes]\n",
    "# initialize parent level\n",
    "parent_level = []\n",
    "# skip by two: use range(0, len(hashes), 2)\n",
    "for i in range(0, len(hashes), 2):\n",
    "    # calculate merkle_parent of i and i+1 hashes\n",
    "    parent = merkle_parent(hashes[i], hashes[i+1])\n",
    "    # print the hexlified hash\n",
    "    print(hexlify(parent))\n",
    "    # add parent to parent level\n",
    "    parent_level.append(parent)"
   ]
  },
  {
   "cell_type": "code",
   "execution_count": 7,
   "metadata": {},
   "outputs": [
    {
     "name": "stderr",
     "output_type": "stream",
     "text": [
      ".\n",
      "----------------------------------------------------------------------\n",
      "Ran 1 test in 0.010s\n",
      "\n",
      "OK\n"
     ]
    }
   ],
   "source": [
    "# Exercise 2.2\n",
    "\n",
    "reload(helper)\n",
    "run_test(helper.HelperTest('test_merkle_parent_level0'))"
   ]
  },
  {
   "cell_type": "code",
   "execution_count": 8,
   "metadata": {},
   "outputs": [
    {
     "name": "stdout",
     "output_type": "stream",
     "text": [
      "[b'8b30c5ba100f6f2e5ad1e2a742e5020491240f8eb514fe97c713c31718ad7ecd', b'7f4e6f9e224e20fda0ae4c44114237f97cd35aca38d83081c9bfd41feb907800', b'3ecf6115380c77e8aae56660f5634982ee897351ba906a6837d15ebc3a225df0']\n"
     ]
    }
   ],
   "source": [
    "# Odd Merkle Parent Level Example\n",
    "\n",
    "from binascii import hexlify, unhexlify\n",
    "from helper import double_sha256, flip_endian, merkle_parent\n",
    "hex_hashes = [\n",
    "    'c117ea8ec828342f4dfb0ad6bd140e03a50720ece40169ee38bdc15d9eb64cf5',\n",
    "    'c131474164b412e3406696da1ee20ab0fc9bf41c8f05fa8ceea7a08d672d7cc5',\n",
    "    'f391da6ecfeed1814efae39e7fcb3838ae0b02c02ae7d0a5848a66947c0727b0',\n",
    "    '3d238a92a94532b946c90e19c49351c763696cff3db400485b813aecb8a13181',\n",
    "    '10092f2633be5f3ce349bf9ddbde36caa3dd10dfa0ec8106bce23acbff637dae',\n",
    "]\n",
    "hashes = [unhexlify(x) for x in hex_hashes]\n",
    "if len(hashes) % 2 == 1:\n",
    "    hashes.append(hashes[-1])\n",
    "parent_level = []\n",
    "for i in range(0, len(hex_hashes), 2):\n",
    "    parent_level.append(merkle_parent(hashes[i], hashes[i+1]))\n",
    "print([hexlify(x) for x in parent_level])"
   ]
  },
  {
   "cell_type": "markdown",
   "metadata": {},
   "source": [
    "### Exercise 3\n",
    "\n",
    "#### 3.1. Calculate the next Merkle Parent Level given these hashes\n",
    "```\n",
    "8b30c5ba100f6f2e5ad1e2a742e5020491240f8eb514fe97c713c31718ad7ecd\n",
    "7f4e6f9e224e20fda0ae4c44114237f97cd35aca38d83081c9bfd41feb907800\n",
    "ade48f2bbb57318cc79f3a8678febaa827599c509dce5940602e54c7733332e7\n",
    "68b3e2ab8182dfd646f13fdf01c335cf32476482d963f5cd94e934e6b3401069\n",
    "43e7274e77fbe8e5a42a8fb58f7decdb04d521f319f332d88e6b06f8e6c09e27\n",
    "```\n",
    "\n",
    "#### 3.2. Make [this test](/edit/session7/helper.py) pass.\n",
    "```\n",
    "helper.py:HelperTest:test_merkle_parent_level1\n",
    "```"
   ]
  },
  {
   "cell_type": "code",
   "execution_count": 9,
   "metadata": {},
   "outputs": [
    {
     "name": "stdout",
     "output_type": "stream",
     "text": [
      "b'26906cb2caeb03626102f7606ea332784281d5d20e2b4839fbb3dbb37262dbc1'\n",
      "b'717a0d17538ff5ad2c020bab38bdcde66e63f3daef88f89095f344918d5d4f96'\n",
      "b'd6c56a5281021a587f5a1e0dd4674bff012c69d960136d96e6d72261d5b696ae'\n"
     ]
    }
   ],
   "source": [
    "# Exercise 3.1\n",
    "\n",
    "from binascii import hexlify, unhexlify\n",
    "from helper import merkle_parent\n",
    "\n",
    "hex_hashes = [\n",
    "    '8b30c5ba100f6f2e5ad1e2a742e5020491240f8eb514fe97c713c31718ad7ecd',\n",
    "    '7f4e6f9e224e20fda0ae4c44114237f97cd35aca38d83081c9bfd41feb907800',\n",
    "    'ade48f2bbb57318cc79f3a8678febaa827599c509dce5940602e54c7733332e7',\n",
    "    '68b3e2ab8182dfd646f13fdf01c335cf32476482d963f5cd94e934e6b3401069',\n",
    "    '43e7274e77fbe8e5a42a8fb58f7decdb04d521f319f332d88e6b06f8e6c09e27',\n",
    "]\n",
    "\n",
    "# unhexlify to get all the hashes in binary\n",
    "hashes = [unhexlify(h) for h in hex_hashes]\n",
    "# if the number of hashes is odd, duplicate the last one\n",
    "if len(hashes) % 2 == 1:\n",
    "    hashes.append(hashes[-1])\n",
    "# initialize parent level\n",
    "parent_level = []\n",
    "# skip by two: use range(0, len(hashes), 2)\n",
    "for i in range(0, len(hashes), 2):\n",
    "    # calculate merkle_parent of i and i+1 hashes\n",
    "    parent = merkle_parent(hashes[i], hashes[i+1])\n",
    "    # print the hexlified hash\n",
    "    print(hexlify(parent))\n",
    "    # add parent to parent level\n",
    "    parent_level.append(parent)"
   ]
  },
  {
   "cell_type": "code",
   "execution_count": 10,
   "metadata": {},
   "outputs": [
    {
     "name": "stderr",
     "output_type": "stream",
     "text": [
      ".\n",
      "----------------------------------------------------------------------\n",
      "Ran 1 test in 0.012s\n",
      "\n",
      "OK\n"
     ]
    }
   ],
   "source": [
    "# Exercise 3.2\n",
    "\n",
    "reload(helper)\n",
    "run_test(helper.HelperTest('test_merkle_parent_level1'))"
   ]
  },
  {
   "cell_type": "code",
   "execution_count": 11,
   "metadata": {},
   "outputs": [
    {
     "name": "stdout",
     "output_type": "stream",
     "text": [
      "b'acbcab8bcc1af95d8d563b77d24c3d19b18f1486383d75a5085c4e86c86beed6'\n"
     ]
    }
   ],
   "source": [
    "# Merkle Root Example\n",
    "\n",
    "from binascii import hexlify, unhexlify\n",
    "from helper import double_sha256, merkle_parent_level\n",
    "\n",
    "hex_hashes = [\n",
    "    'c117ea8ec828342f4dfb0ad6bd140e03a50720ece40169ee38bdc15d9eb64cf5',\n",
    "    'c131474164b412e3406696da1ee20ab0fc9bf41c8f05fa8ceea7a08d672d7cc5',\n",
    "    'f391da6ecfeed1814efae39e7fcb3838ae0b02c02ae7d0a5848a66947c0727b0',\n",
    "    '3d238a92a94532b946c90e19c49351c763696cff3db400485b813aecb8a13181',\n",
    "    '10092f2633be5f3ce349bf9ddbde36caa3dd10dfa0ec8106bce23acbff637dae',\n",
    "    '7d37b3d54fa6a64869084bfd2e831309118b9e833610e6228adacdbd1b4ba161',\n",
    "    '8118a77e542892fe15ae3fc771a4abfd2f5d5d5997544c3487ac36b5c85170fc',\n",
    "    'dff6879848c2c9b62fe652720b8df5272093acfaa45a43cdb3696fe2466a3877',\n",
    "    'b825c0745f46ac58f7d3759e6dc535a1fec7820377f24d4c2c6ad2cc55c0cb59',\n",
    "    '95513952a04bd8992721e9b7e2937f1c04ba31e0469fbe615a78197f68f52b7c',\n",
    "    '2e6d722e5e4dbdf2447ddecc9f7dabb8e299bae921c99ad5b0184cd9eb8e5908',\n",
    "    'b13a750047bc0bdceb2473e5fe488c2596d7a7124b4e716fdd29b046ef99bbf0',\n",
    "]\n",
    "\n",
    "current_level = [unhexlify(x) for x in hex_hashes]\n",
    "while len(current_level) > 1:\n",
    "    current_level = merkle_parent_level(current_level)\n",
    "print(hexlify(current_level[0]))"
   ]
  },
  {
   "cell_type": "markdown",
   "metadata": {},
   "source": [
    "### Exercise 4\n",
    "\n",
    "#### 4.1. Calculate the Merkle Root given these hashes\n",
    "```\n",
    "42f6f52f17620653dcc909e58bb352e0bd4bd1381e2955d19c00959a22122b2e\n",
    "94c3af34b9667bf787e1c6a0a009201589755d01d02fe2877cc69b929d2418d4\n",
    "959428d7c48113cb9149d0566bde3d46e98cf028053c522b8fa8f735241aa953\n",
    "a9f27b99d5d108dede755710d4a1ffa2c74af70b4ca71726fa57d68454e609a2\n",
    "62af110031e29de1efcad103b3ad4bec7bdcf6cb9c9f4afdd586981795516577\n",
    "766900590ece194667e9da2984018057512887110bf54fe0aa800157aec796ba\n",
    "e8270fb475763bc8d855cfe45ed98060988c1bdcad2ffc8364f783c98999a208\n",
    "921b8cfd3e14bf41f028f0a3aa88c813d5039a2b1bceb12208535b0b43a5d09e\n",
    "15535864799652347cec66cba473f6d8291541238e58b2e03b046bc53cfe1321\n",
    "1c8af7c502971e67096456eac9cd5407aacf62190fc54188995666a30faf99f0\n",
    "3311f8acc57e8a3e9b68e2945fb4f53c07b0fa4668a7e5cda6255c21558c774d\n",
    "```\n",
    "\n",
    "#### 4.2. Make [this test](/edit/session7/helper.py) pass.\n",
    "```\n",
    "helper.py:HelperTest:test_merkle_root\n",
    "```"
   ]
  },
  {
   "cell_type": "code",
   "execution_count": 12,
   "metadata": {},
   "outputs": [
    {
     "name": "stdout",
     "output_type": "stream",
     "text": [
      "b'a67772634e542799333c6c98bc903e36b652918a8d8a9e069391c55b4276c8a1'\n"
     ]
    }
   ],
   "source": [
    "# Exercise 4.1\n",
    "\n",
    "from binascii import hexlify, unhexlify\n",
    "from helper import double_sha256, merkle_parent_level\n",
    "hex_hashes = [\n",
    "    '42f6f52f17620653dcc909e58bb352e0bd4bd1381e2955d19c00959a22122b2e',\n",
    "    '94c3af34b9667bf787e1c6a0a009201589755d01d02fe2877cc69b929d2418d4',\n",
    "    '959428d7c48113cb9149d0566bde3d46e98cf028053c522b8fa8f735241aa953',\n",
    "    'a9f27b99d5d108dede755710d4a1ffa2c74af70b4ca71726fa57d68454e609a2',\n",
    "    '62af110031e29de1efcad103b3ad4bec7bdcf6cb9c9f4afdd586981795516577',\n",
    "    '766900590ece194667e9da2984018057512887110bf54fe0aa800157aec796ba',\n",
    "    'e8270fb475763bc8d855cfe45ed98060988c1bdcad2ffc8364f783c98999a208',\n",
    "    '921b8cfd3e14bf41f028f0a3aa88c813d5039a2b1bceb12208535b0b43a5d09e',\n",
    "    '15535864799652347cec66cba473f6d8291541238e58b2e03b046bc53cfe1321',\n",
    "    '1c8af7c502971e67096456eac9cd5407aacf62190fc54188995666a30faf99f0',\n",
    "    '3311f8acc57e8a3e9b68e2945fb4f53c07b0fa4668a7e5cda6255c21558c774d',\n",
    "]\n",
    "\n",
    "# unhexlify to get all the hashes in binary\n",
    "hashes = [unhexlify(h) for h in hex_hashes]\n",
    "# initialize current level to be the hashes\n",
    "current_level = hashes\n",
    "# loop until current_level has only 1 element\n",
    "while len(current_level) > 1:\n",
    "    # make the current level the parent level\n",
    "    current_level = merkle_parent_level(current_level)\n",
    "# print the hexlified root\n",
    "print(hexlify(current_level[0]))"
   ]
  },
  {
   "cell_type": "code",
   "execution_count": 13,
   "metadata": {},
   "outputs": [
    {
     "name": "stderr",
     "output_type": "stream",
     "text": [
      ".\n",
      "----------------------------------------------------------------------\n",
      "Ran 1 test in 0.002s\n",
      "\n",
      "OK\n"
     ]
    }
   ],
   "source": [
    "# Exercise 4.2\n",
    "\n",
    "reload(helper)\n",
    "run_test(helper.HelperTest('test_merkle_root'))"
   ]
  },
  {
   "cell_type": "code",
   "execution_count": 14,
   "metadata": {},
   "outputs": [
    {
     "name": "stdout",
     "output_type": "stream",
     "text": [
      "654d6181e18e4ac4368383fdc5eead11bf138f9b7ac1e15334e4411b3c4797d9\n"
     ]
    }
   ],
   "source": [
    "# Block Merkle Root Example\n",
    "\n",
    "from binascii import hexlify, unhexlify\n",
    "from helper import double_sha256, merkle_parent_level, merkle_root\n",
    "tx_hex_hashes = [\n",
    "    '42f6f52f17620653dcc909e58bb352e0bd4bd1381e2955d19c00959a22122b2e',\n",
    "    '94c3af34b9667bf787e1c6a0a009201589755d01d02fe2877cc69b929d2418d4',\n",
    "    '959428d7c48113cb9149d0566bde3d46e98cf028053c522b8fa8f735241aa953',\n",
    "    'a9f27b99d5d108dede755710d4a1ffa2c74af70b4ca71726fa57d68454e609a2',\n",
    "    '62af110031e29de1efcad103b3ad4bec7bdcf6cb9c9f4afdd586981795516577',\n",
    "    '766900590ece194667e9da2984018057512887110bf54fe0aa800157aec796ba',\n",
    "    'e8270fb475763bc8d855cfe45ed98060988c1bdcad2ffc8364f783c98999a208',\n",
    "]\n",
    "current_level = [unhexlify(x)[::-1] for x in tx_hex_hashes]\n",
    "print(hexlify(merkle_root(current_level)[::-1]).decode('ascii'))"
   ]
  },
  {
   "cell_type": "markdown",
   "metadata": {},
   "source": [
    "### Exercise 5\n",
    "\n",
    "#### 5.1. Validate the merkle root for this block on Testnet:\n",
    "Block Hash:\n",
    "```\n",
    "0000000000000451fa80fcdb243b84c35eaae215a85a8faa880559e8239e6f20\n",
    "```\n",
    "\n",
    "https://api.blockcypher.com/v1/btc/test3/blocks/0000000000000451fa80fcdb243b84c35eaae215a85a8faa880559e8239e6f20\n",
    "\n",
    "Transaction Hashes:\n",
    "```\n",
    "42f6f52f17620653dcc909e58bb352e0bd4bd1381e2955d19c00959a22122b2e\n",
    "94c3af34b9667bf787e1c6a0a009201589755d01d02fe2877cc69b929d2418d4\n",
    "959428d7c48113cb9149d0566bde3d46e98cf028053c522b8fa8f735241aa953\n",
    "a9f27b99d5d108dede755710d4a1ffa2c74af70b4ca71726fa57d68454e609a2\n",
    "62af110031e29de1efcad103b3ad4bec7bdcf6cb9c9f4afdd586981795516577\n",
    "766900590ece194667e9da2984018057512887110bf54fe0aa800157aec796ba\n",
    "e8270fb475763bc8d855cfe45ed98060988c1bdcad2ffc8364f783c98999a208\n",
    "921b8cfd3e14bf41f028f0a3aa88c813d5039a2b1bceb12208535b0b43a5d09e\n",
    "15535864799652347cec66cba473f6d8291541238e58b2e03b046bc53cfe1321\n",
    "1c8af7c502971e67096456eac9cd5407aacf62190fc54188995666a30faf99f0\n",
    "3311f8acc57e8a3e9b68e2945fb4f53c07b0fa4668a7e5cda6255c21558c774d\n",
    "```\n",
    "\n",
    "#### 5.2. Make [these tests](/edit/session7/block.py) pass.\n",
    "```\n",
    "block.py:BlockTest:test_validate_merkle_root\n",
    "block.py:BlockTest:test_calculate_merkle_tree\n",
    "```"
   ]
  },
  {
   "cell_type": "code",
   "execution_count": 15,
   "metadata": {},
   "outputs": [
    {
     "name": "stdout",
     "output_type": "stream",
     "text": [
      "b'4297fb95a0168b959d1469410c7527da5d6243d99699e7d041b7f3916ba93301'\n"
     ]
    }
   ],
   "source": [
    "# Exercise 5.1\n",
    "\n",
    "from binascii import hexlify, unhexlify\n",
    "from helper import double_sha256, flip_endian, merkle_root\n",
    "\n",
    "tx_hex_hashes = [\n",
    "    '42f6f52f17620653dcc909e58bb352e0bd4bd1381e2955d19c00959a22122b2e',\n",
    "    '94c3af34b9667bf787e1c6a0a009201589755d01d02fe2877cc69b929d2418d4',\n",
    "    '959428d7c48113cb9149d0566bde3d46e98cf028053c522b8fa8f735241aa953',\n",
    "    'a9f27b99d5d108dede755710d4a1ffa2c74af70b4ca71726fa57d68454e609a2',\n",
    "    '62af110031e29de1efcad103b3ad4bec7bdcf6cb9c9f4afdd586981795516577',\n",
    "    '766900590ece194667e9da2984018057512887110bf54fe0aa800157aec796ba',\n",
    "    'e8270fb475763bc8d855cfe45ed98060988c1bdcad2ffc8364f783c98999a208',\n",
    "    '921b8cfd3e14bf41f028f0a3aa88c813d5039a2b1bceb12208535b0b43a5d09e',\n",
    "    '15535864799652347cec66cba473f6d8291541238e58b2e03b046bc53cfe1321',\n",
    "    '1c8af7c502971e67096456eac9cd5407aacf62190fc54188995666a30faf99f0',\n",
    "    '3311f8acc57e8a3e9b68e2945fb4f53c07b0fa4668a7e5cda6255c21558c774d',\n",
    "]\n",
    "\n",
    "# unhexlify and reverse ([::-1]) to get all the hashes in binary\n",
    "hashes = [unhexlify(h)[::-1] for h in tx_hex_hashes]\n",
    "# get the merkle root\n",
    "root = merkle_root(hashes)\n",
    "# hexlify the reversed root\n",
    "print(hexlify(root[::-1]))"
   ]
  },
  {
   "cell_type": "code",
   "execution_count": 16,
   "metadata": {},
   "outputs": [
    {
     "name": "stderr",
     "output_type": "stream",
     "text": [
      ".\n",
      "----------------------------------------------------------------------\n",
      "Ran 1 test in 0.002s\n",
      "\n",
      "OK\n",
      ".\n",
      "----------------------------------------------------------------------\n",
      "Ran 1 test in 0.005s\n",
      "\n",
      "OK\n"
     ]
    }
   ],
   "source": [
    "# Exercise 5.2\n",
    "\n",
    "reload(block)\n",
    "run_test(block.BlockTest('test_validate_merkle_root'))\n",
    "run_test(block.BlockTest('test_calculate_merkle_tree'))"
   ]
  },
  {
   "cell_type": "code",
   "execution_count": 17,
   "metadata": {},
   "outputs": [
    {
     "name": "stdout",
     "output_type": "stream",
     "text": [
      "[10, 5, 2, 1]\n"
     ]
    }
   ],
   "source": [
    "# Merkle Path Example\n",
    "\n",
    "import math\n",
    "\n",
    "total_levels = math.ceil(math.log(16, 2))\n",
    "merkle_path = []\n",
    "index = 10\n",
    "for i in range(total_levels):\n",
    "    merkle_path.append(index)\n",
    "    index = index // 2\n",
    "print(merkle_path)"
   ]
  },
  {
   "cell_type": "markdown",
   "metadata": {},
   "source": [
    "### Exercise 6\n",
    "\n",
    "#### 6.1. Get the Merkle Path for an item at index 13 (0-base) in 27 items.\n",
    "\n",
    "#### 6.2. Make [this test](/edit/session7/helper.py) pass.\n",
    "```\n",
    "helper.py:HelperTest:test_merkle_path\n",
    "```"
   ]
  },
  {
   "cell_type": "code",
   "execution_count": 18,
   "metadata": {},
   "outputs": [
    {
     "name": "stdout",
     "output_type": "stream",
     "text": [
      "[13, 6, 3, 1, 0]\n"
     ]
    }
   ],
   "source": [
    "# Exercise 6.1\n",
    "\n",
    "import math\n",
    "\n",
    "num_items = 27\n",
    "index = 13\n",
    "\n",
    "# get the total number of levels possible (math.ceil(math.log(num_items, 2)))\n",
    "num_levels = math.ceil(math.log(num_items, 2))\n",
    "# initialize merkle path array\n",
    "merkle_path = []\n",
    "# loop through number of levels\n",
    "for _ in range(num_levels):\n",
    "    # add the index to merkle path\n",
    "    merkle_path.append(index)\n",
    "    # index integer div by 2 to get the index at the next level\n",
    "    index = index // 2\n",
    "# print merkle path\n",
    "print(merkle_path)"
   ]
  },
  {
   "cell_type": "code",
   "execution_count": 19,
   "metadata": {},
   "outputs": [
    {
     "name": "stderr",
     "output_type": "stream",
     "text": [
      ".\n",
      "----------------------------------------------------------------------\n",
      "Ran 1 test in 0.002s\n",
      "\n",
      "OK\n"
     ]
    }
   ],
   "source": [
    "# Exercise 6.2\n",
    "\n",
    "reload(helper)\n",
    "run_test(helper.HelperTest('test_merkle_path'))"
   ]
  },
  {
   "cell_type": "code",
   "execution_count": 20,
   "metadata": {},
   "outputs": [
    {
     "name": "stdout",
     "output_type": "stream",
     "text": [
      "10 [b'8F\\x80\\x18[\\xcb\\x07\\x9df\\xce\\xb8\\xe6\\x03\\xab\\xc2\\xfe\\xe9-<cuHu\\xaf\\xbd\\x19P%[+\\xa9\\xb3', b'W@[\\r\\x17\\xfeg\\xaa\\xf3\\x9fn\\x04\\x17\\x9d\\xbd\\x027x\\xe1\\x88K\\xaa]\\x14\\t\\xd0\\xa7\\xae\\xa5\\xc4\\xa8\\x9b', b'\\x1a\\xf7=\\xdco\\xdd\"\\xca\\x92\\x00\\xd5\\x19\\xe1j,\\xd4\\xad#H\\xb3\\xe1.-Q\\x8dv7=\\xbe\\x84\\xf7\\xab', b'\\x18\\xe5A6\\x1eKE\\x8ct\\x9b\\x90\\xef\\xcf\\xc5\\xf5pi\\xc5\\xdf\\xbci\\x07\\xd2\\x84:\\xe0\\xb9\\x1b\\xbb\\xb6I6', b'K\\xe0\\x91\\xa6\\xab\\xc8\\xff;\\xa7]\\\\L\\x92b[\\xbe\\x8b\\x01\\xe9\\xde\\xfe\\xda\\x86+\\x0f\\xca@\\x9dX1^\\xa9']\n"
     ]
    }
   ],
   "source": [
    "# Merkle Proof Example\n",
    "from binascii import unhexlify\n",
    "\n",
    "from block import Block\n",
    "from helper import int_to_little_endian, merkle_path\n",
    "\n",
    "hex_tx_hashes = [\n",
    "    \"9745f7173ef14ee4155722d1cbf13304339fd00d900b759c6f9d58579b5765fb\",\n",
    "    \"5573c8ede34936c29cdfdfe743f7f5fdfbd4f54ba0705259e62f39917065cb9b\",\n",
    "    \"82a02ecbb6623b4274dfcab82b336dc017a27136e08521091e443e62582e8f05\",\n",
    "    \"507ccae5ed9b340363a0e6d765af148be9cb1c8766ccc922f83e4ae681658308\",\n",
    "    \"a7a4aec28e7162e1e9ef33dfa30f0bc0526e6cf4b11a576f6c5de58593898330\",\n",
    "    \"bb6267664bd833fd9fc82582853ab144fece26b7a8a5bf328f8a059445b59add\",\n",
    "    \"ea6d7ac1ee77fbacee58fc717b990c4fcccf1b19af43103c090f601677fd8836\",\n",
    "    \"457743861de496c429912558a106b810b0507975a49773228aa788df40730d41\",\n",
    "    \"7688029288efc9e9a0011c960a6ed9e5466581abf3e3a6c26ee317461add619a\",\n",
    "    \"b1ae7f15836cb2286cdd4e2c37bf9bb7da0a2846d06867a429f654b2e7f383c9\",\n",
    "    \"9b74f89fa3f93e71ff2c241f32945d877281a6a50a6bf94adac002980aafe5ab\",\n",
    "    \"b3a92b5b255019bdaf754875633c2de9fec2ab03e6b8ce669d07cb5b18804638\",\n",
    "    \"b5c0b915312b9bdaedd2b86aa2d0f8feffc73a2d37668fd9010179261e25e263\",\n",
    "    \"c9d52c5cb1e557b92c84c52e7c4bfbce859408bedffc8a5560fd6e35e10b8800\",\n",
    "    \"c555bc5fc3bc096df0a0c9532f07640bfb76bfe4fc1ace214b8b228a1297a4c2\",\n",
    "    \"f9dbfafc3af3400954975da24eb325e326960a25b87fffe23eef3e7ed2fb610e\",\n",
    "    \"8e694f5092f6a644ab587ca445f9e949e4f5991d3c3c72bd4574a7c9896a2402\",\n",
    "    \"9cc887977168f430f4f896dfc6fc7379834733ce938abe7cd8a1a668d1ea1841\",\n",
    "]\n",
    "b = Block(\n",
    "    version=536870914,\n",
    "    prev_block=unhexlify('00000000000002dda81fd83ac5b944ad88592a213bfaf54bffad68725c782639'),\n",
    "    merkle_root=unhexlify('f2710c8f3652ec6bfe79769458ae4be8117cad46964ce9dab9ce570bcb2ff9b0'),\n",
    "    bits=int_to_little_endian(437256176, 4),\n",
    "    nonce=b'\\x00\\x00\\x00\\x00',\n",
    "    timestamp=1512503014,\n",
    "    tx_hashes=[unhexlify(h) for h in hex_tx_hashes],\n",
    ")\n",
    "b.calculate_merkle_tree()\n",
    "index, num_items = 10, 18\n",
    "merkle_proof = []\n",
    "for level, index_at_level in enumerate(merkle_path(index, num_items)):\n",
    "    if index_at_level % 2 == 1:\n",
    "        partner = index_at_level - 1\n",
    "    else:\n",
    "        partner = index_at_level + 1\n",
    "    merkle_proof.append(b.merkle_tree[level][partner])\n",
    "print(index, merkle_proof)"
   ]
  },
  {
   "cell_type": "markdown",
   "metadata": {},
   "source": [
    "### Exercise 7\n",
    "\n",
    "#### 7.1. Create a Merkle Proof for this transaction\n",
    "Transaction Hash:\n",
    "```\n",
    "e8270fb475763bc8d855cfe45ed98060988c1bdcad2ffc8364f783c98999a208\n",
    "```\n",
    "\n",
    "Block Hex:\n",
    "```\n",
    "00000020fcb19f7895db08cadc9573e7915e3919fb76d59868a51d995201000000000000acbcab8bcc1af95d8d563b77d24c3d19b18f1486383d75a5085c4e86c86beed691cfa85916ca061a00000000\n",
    "```\n",
    "\n",
    "Transaction Hashes:\n",
    "```\n",
    "42f6f52f17620653dcc909e58bb352e0bd4bd1381e2955d19c00959a22122b2e\n",
    "94c3af34b9667bf787e1c6a0a009201589755d01d02fe2877cc69b929d2418d4\n",
    "959428d7c48113cb9149d0566bde3d46e98cf028053c522b8fa8f735241aa953\n",
    "a9f27b99d5d108dede755710d4a1ffa2c74af70b4ca71726fa57d68454e609a2\n",
    "62af110031e29de1efcad103b3ad4bec7bdcf6cb9c9f4afdd586981795516577\n",
    "766900590ece194667e9da2984018057512887110bf54fe0aa800157aec796ba\n",
    "e8270fb475763bc8d855cfe45ed98060988c1bdcad2ffc8364f783c98999a208\n",
    "921b8cfd3e14bf41f028f0a3aa88c813d5039a2b1bceb12208535b0b43a5d09e\n",
    "15535864799652347cec66cba473f6d8291541238e58b2e03b046bc53cfe1321\n",
    "1c8af7c502971e67096456eac9cd5407aacf62190fc54188995666a30faf99f0\n",
    "3311f8acc57e8a3e9b68e2945fb4f53c07b0fa4668a7e5cda6255c21558c774d\n",
    "```\n",
    "\n",
    "#### 7.2. Make [this test](/edit/session7/block.py) pass.\n",
    "```\n",
    "block.py:BlockTest:test_create_merkle_proof\n",
    "```"
   ]
  },
  {
   "cell_type": "code",
   "execution_count": 21,
   "metadata": {},
   "outputs": [
    {
     "name": "stdout",
     "output_type": "stream",
     "text": [
      "6 [b'8F\\x80\\x18[\\xcb\\x07\\x9df\\xce\\xb8\\xe6\\x03\\xab\\xc2\\xfe\\xe9-<cuHu\\xaf\\xbd\\x19P%[+\\xa9\\xb3', b'W@[\\r\\x17\\xfeg\\xaa\\xf3\\x9fn\\x04\\x17\\x9d\\xbd\\x027x\\xe1\\x88K\\xaa]\\x14\\t\\xd0\\xa7\\xae\\xa5\\xc4\\xa8\\x9b', b'\\x1a\\xf7=\\xdco\\xdd\"\\xca\\x92\\x00\\xd5\\x19\\xe1j,\\xd4\\xad#H\\xb3\\xe1.-Q\\x8dv7=\\xbe\\x84\\xf7\\xab', b'\\x18\\xe5A6\\x1eKE\\x8ct\\x9b\\x90\\xef\\xcf\\xc5\\xf5pi\\xc5\\xdf\\xbci\\x07\\xd2\\x84:\\xe0\\xb9\\x1b\\xbb\\xb6I6', b'K\\xe0\\x91\\xa6\\xab\\xc8\\xff;\\xa7]\\\\L\\x92b[\\xbe\\x8b\\x01\\xe9\\xde\\xfe\\xda\\x86+\\x0f\\xca@\\x9dX1^\\xa9', b'\\x9e\\xd0\\xa5C\\x0b[S\\x08\"\\xb1\\xce\\x1b+\\x9a\\x03\\xd5\\x13\\xc8\\x88\\xaa\\xa3\\xf0(\\xf0A\\xbf\\x14>\\xfd\\x8c\\x1b\\x92', b\"\\x1d\\xc4\\xb48\\xb3\\xa8B\\xbc\\xddF\\xb6\\xeaZJ\\xac\\x8df\\xbe\\x85\\x8b\\x0b\\xa4\\x12W\\x80'\\xa1\\xf1\\xfe\\x83\\x8cQ\", b'\\x15o6b\\xb0z\\xaaJ\\r\\x97b\\xfa\\xaa\\x8c\\x18\\xaf\\xe4\\xc2\\x11\\xff\\x92\\xeb\\x1e\\xae\\x19R\\xaafb{\\xbf.', b'RL\\x93\\xc6\\xdd\\x08t\\xc5\\xfd\\x9eNW\\xcf\\xe81v\\xe3\\xc2\\x84\\x1c\\x97:\\xfb@C\\xd2%\\xc2,\\xc5)\\x83']\n"
     ]
    }
   ],
   "source": [
    "# Exercise 7.1\n",
    "\n",
    "from io import BytesIO\n",
    "\n",
    "from block import Block, Proof\n",
    "from helper import merkle_path\n",
    "\n",
    "tx_hash = unhexlify('e8270fb475763bc8d855cfe45ed98060988c1bdcad2ffc8364f783c98999a208')\n",
    "tx_hex_hashes = [\n",
    "    '42f6f52f17620653dcc909e58bb352e0bd4bd1381e2955d19c00959a22122b2e',\n",
    "    '94c3af34b9667bf787e1c6a0a009201589755d01d02fe2877cc69b929d2418d4',\n",
    "    '959428d7c48113cb9149d0566bde3d46e98cf028053c522b8fa8f735241aa953',\n",
    "    'a9f27b99d5d108dede755710d4a1ffa2c74af70b4ca71726fa57d68454e609a2',\n",
    "    '62af110031e29de1efcad103b3ad4bec7bdcf6cb9c9f4afdd586981795516577',\n",
    "    '766900590ece194667e9da2984018057512887110bf54fe0aa800157aec796ba',\n",
    "    'e8270fb475763bc8d855cfe45ed98060988c1bdcad2ffc8364f783c98999a208',\n",
    "    '921b8cfd3e14bf41f028f0a3aa88c813d5039a2b1bceb12208535b0b43a5d09e',\n",
    "    '15535864799652347cec66cba473f6d8291541238e58b2e03b046bc53cfe1321',\n",
    "    '1c8af7c502971e67096456eac9cd5407aacf62190fc54188995666a30faf99f0',\n",
    "    '3311f8acc57e8a3e9b68e2945fb4f53c07b0fa4668a7e5cda6255c21558c774d',\n",
    "]\n",
    "stream = BytesIO(unhexlify('00000020fcb19f7895db08cadc9573e7915e3919fb76d59868a51d995201000000000000acbcab8bcc1af95d8d563b77d24c3d19b18f1486383d75a5085c4e86c86beed691cfa85916ca061a00000000'))\n",
    "b = Block.parse(stream)\n",
    "b.tx_hashes = [unhexlify(x) for x in tx_hex_hashes]\n",
    "\n",
    "# calculate the merkle tree first\n",
    "b.calculate_merkle_tree()\n",
    "# get the index of the tx_hash in the list of tx_hashes (b.tx_hashes.index(tx_hash))\n",
    "index = b.tx_hashes.index(tx_hash)\n",
    "# initialize the proof hashes\n",
    "proof_hashes = []\n",
    "# loop through the enumerated merkle path (keep track of level and index at level)\n",
    "for level, index_at_level in enumerate(merkle_path(index, len(b.tx_hashes))):\n",
    "    # if the current level index is odd, the partner is - 1\n",
    "    if index_at_level % 2 == 1:\n",
    "        partner = index_at_level - 1\n",
    "    # if the current level index is even, the partner is + 1\n",
    "    else:\n",
    "        partner = index_at_level + 1\n",
    "    # add the partner to proof hashes\n",
    "    merkle_proof.append(b.merkle_tree[level][partner])\n",
    "print(index, merkle_proof)"
   ]
  },
  {
   "cell_type": "code",
   "execution_count": 22,
   "metadata": {},
   "outputs": [
    {
     "name": "stderr",
     "output_type": "stream",
     "text": [
      ".\n",
      "----------------------------------------------------------------------\n",
      "Ran 1 test in 0.003s\n",
      "\n",
      "OK\n"
     ]
    }
   ],
   "source": [
    "# Exercise 7.2\n",
    "\n",
    "reload(block)\n",
    "run_test(block.BlockTest('test_create_merkle_proof'))"
   ]
  },
  {
   "cell_type": "markdown",
   "metadata": {},
   "source": [
    "### Exercise 8\n",
    "\n",
    "#### 8.1. Verify a Merkle Proof\n",
    "Transaction Hash:\n",
    "```\n",
    "e8270fb475763bc8d855cfe45ed98060988c1bdcad2ffc8364f783c98999a208\n",
    "```\n",
    "\n",
    "Index:\n",
    "```\n",
    "6\n",
    "```\n",
    "\n",
    "Merkle Root:\n",
    "```\n",
    "4297fb95a0168b959d1469410c7527da5d6243d99699e7d041b7f3916ba93301\n",
    "```\n",
    "\n",
    "Merkle Proof:\n",
    "```\n",
    "9ed0a5430b5b530822b1ce1b2b9a03d513c888aaa3f028f041bf143efd8c1b92\n",
    "1dc4b438b3a842bcdd46b6ea5a4aac8d66be858b0ba412578027a1f1fe838c51\n",
    "156f3662b07aaa4a0d9762faaa8c18afe4c211ff92eb1eae1952aa66627bbf2e\n",
    "524c93c6dd0874c5fd9e4e57cfe83176e3c2841c973afb4043d225c22cc52983\n",
    "```\n",
    "\n",
    "#### 8.2. Make [this test](/edit/session7/block.py) pass.\n",
    "```\n",
    "block.py:BlockTest:test_verify_merkle_proof\n",
    "```"
   ]
  },
  {
   "cell_type": "code",
   "execution_count": 23,
   "metadata": {},
   "outputs": [
    {
     "name": "stdout",
     "output_type": "stream",
     "text": [
      "True\n"
     ]
    }
   ],
   "source": [
    "# Exercise 8.1\n",
    "\n",
    "from binascii import hexlify, unhexlify\n",
    "from block import Proof\n",
    "from helper import double_sha256, flip_endian, merkle_root, merkle_path, merkle_parent\n",
    "\n",
    "tx_hash = unhexlify('e8270fb475763bc8d855cfe45ed98060988c1bdcad2ffc8364f783c98999a208')\n",
    "merkle_root = unhexlify('4297fb95a0168b959d1469410c7527da5d6243d99699e7d041b7f3916ba93301')\n",
    "proof_hex_hashes = [\n",
    "    '9ed0a5430b5b530822b1ce1b2b9a03d513c888aaa3f028f041bf143efd8c1b92',\n",
    "    '1dc4b438b3a842bcdd46b6ea5a4aac8d66be858b0ba412578027a1f1fe838c51',\n",
    "    '156f3662b07aaa4a0d9762faaa8c18afe4c211ff92eb1eae1952aa66627bbf2e',\n",
    "    '524c93c6dd0874c5fd9e4e57cfe83176e3c2841c973afb4043d225c22cc52983',\n",
    "]\n",
    "proof_hashes = [unhexlify(x) for x in proof_hex_hashes]\n",
    "index = 6\n",
    "\n",
    "# get the current hash (reverse it as it needs to be little endian)\n",
    "current = tx_hash[::-1]\n",
    "# get the merkle path for the index. assume the num items is 2**len(proof_hashes)\n",
    "path = merkle_path(6, 2**len(proof_hashes))\n",
    "# loop through proof hashes\n",
    "for proof_hash, index_at_level in zip(proof_hashes, path):\n",
    "    # if index_at_level is odd, proof_hash is on the left\n",
    "    if index_at_level % 2 == 1:\n",
    "        current = merkle_parent(proof_hash, current)\n",
    "    # if index_at_level is even, proof_hash is on the right\n",
    "    else:\n",
    "        current = merkle_parent(current, proof_hash)\n",
    "# see if the current one reversed is the same as merkle root\n",
    "print(current[::-1] == merkle_root)"
   ]
  },
  {
   "cell_type": "code",
   "execution_count": 24,
   "metadata": {},
   "outputs": [
    {
     "name": "stderr",
     "output_type": "stream",
     "text": [
      ".\n",
      "----------------------------------------------------------------------\n",
      "Ran 1 test in 0.002s\n",
      "\n",
      "OK\n"
     ]
    }
   ],
   "source": [
    "# Exercise 8.2\n",
    "\n",
    "reload(block)\n",
    "run_test(block.BlockTest('test_verify_merkle_proof'))"
   ]
  },
  {
   "cell_type": "markdown",
   "metadata": {},
   "source": [
    "### Exercise 9\n",
    "\n",
    "#### 9.1. Parse this message\n",
    "```\n",
    "f9beb4d976657261636b000000000000000000005df6e0e2\n",
    "```\n",
    "\n",
    "#### 9.2. Make [these test](/edit/session7/network.py) pass.\n",
    "```\n",
    "network.py:NetworkTest:test_parse\n",
    "network.py:NetworkTest:test_serialize\n",
    "```"
   ]
  },
  {
   "cell_type": "code",
   "execution_count": 25,
   "metadata": {},
   "outputs": [
    {
     "name": "stdout",
     "output_type": "stream",
     "text": [
      "b'verack\\x00\\x00\\x00\\x00\\x00\\x00'\n"
     ]
    }
   ],
   "source": [
    "# Exercise 9.1\n",
    "\n",
    "from binascii import unhexlify\n",
    "\n",
    "msg = unhexlify('f9beb4d976657261636b000000000000000000005df6e0e2')\n",
    "\n",
    "# first 4 are network magic\n",
    "magic = msg[:4]\n",
    "# next 12 are command\n",
    "command = msg[4:16]\n",
    "# next 4 are payload length\n",
    "payload_length = msg[16:20]\n",
    "# next 4 are checksum\n",
    "checksum = msg[20:24]\n",
    "# rest is payload\n",
    "payload = msg[24:]\n",
    "print(command)"
   ]
  },
  {
   "cell_type": "code",
   "execution_count": 26,
   "metadata": {},
   "outputs": [
    {
     "name": "stderr",
     "output_type": "stream",
     "text": [
      ".\n",
      "----------------------------------------------------------------------\n",
      "Ran 1 test in 0.003s\n",
      "\n",
      "OK\n",
      ".\n",
      "----------------------------------------------------------------------\n",
      "Ran 1 test in 0.002s\n",
      "\n",
      "OK\n"
     ]
    }
   ],
   "source": [
    "# Exercise 9.2\n",
    "\n",
    "reload(network)\n",
    "run_test(network.NetworkEnvelopeTest('test_parse'))\n",
    "run_test(network.NetworkEnvelopeTest('test_serialize'))"
   ]
  },
  {
   "cell_type": "markdown",
   "metadata": {},
   "source": [
    "### Exercise 10\n",
    "\n",
    "#### 10.1. Parse this message\n",
    "```\n",
    "f9beb4d974780000000000000000000002010000e293cdbe01000000016dbddb085b1d8af75184f0bc01fad58d1266e9b63b50881990e4b40d6aee3629000000008b483045022100f3581e1972ae8ac7c7367a7a253bc1135223adb9a468bb3a59233f45bc578380022059af01ca17d00e41837a1d58e97aa31bae584edec28d35bd96923690913bae9a0141049c02bfc97ef236ce6d8fe5d94013c721e915982acd2b12b65d9b7d59e20a842005f8fc4e02532e873d37b96f09d6d4511ada8f14042f46614a4c70c0f14beff5ffffffff02404b4c00000000001976a9141aa0cd1cbea6e7458a7abad512a9d9ea1afb225e88ac80fae9c7000000001976a9140eab5bea436a0484cfab12485efda0b78b4ecc5288ac00000000\n",
    "```\n"
   ]
  },
  {
   "cell_type": "code",
   "execution_count": 27,
   "metadata": {},
   "outputs": [
    {
     "data": {
      "text/plain": [
       "tx\u0000\u0000\u0000\u0000\u0000\u0000\u0000\u0000\u0000\u0000: 01000000016dbddb085b1d8af75184f0bc01fad58d1266e9b63b50881990e4b40d6aee3629000000008b483045022100f3581e1972ae8ac7c7367a7a253bc1135223adb9a468bb3a59233f45bc578380022059af01ca17d00e41837a1d58e97aa31bae584edec28d35bd96923690913bae9a0141049c02bfc97ef236ce6d8fe5d94013c721e915982acd2b12b65d9b7d59e20a842005f8fc4e02532e873d37b96f09d6d4511ada8f14042f46614a4c70c0f14beff5ffffffff02404b4c00000000001976a9141aa0cd1cbea6e7458a7abad512a9d9ea1afb225e88ac80fae9c7000000001976a9140eab5bea436a0484cfab12485efda0b78b4ecc5288ac00000000"
      ]
     },
     "execution_count": 27,
     "metadata": {},
     "output_type": "execute_result"
    }
   ],
   "source": [
    "# Exercise 10.1\n",
    "\n",
    "from io import BytesIO\n",
    "\n",
    "from network import NetworkEnvelope\n",
    "\n",
    "stream = BytesIO(unhexlify('f9beb4d974780000000000000000000002010000e293cdbe01000000016dbddb085b1d8af75184f0bc01fad58d1266e9b63b50881990e4b40d6aee3629000000008b483045022100f3581e1972ae8ac7c7367a7a253bc1135223adb9a468bb3a59233f45bc578380022059af01ca17d00e41837a1d58e97aa31bae584edec28d35bd96923690913bae9a0141049c02bfc97ef236ce6d8fe5d94013c721e915982acd2b12b65d9b7d59e20a842005f8fc4e02532e873d37b96f09d6d4511ada8f14042f46614a4c70c0f14beff5ffffffff02404b4c00000000001976a9141aa0cd1cbea6e7458a7abad512a9d9ea1afb225e88ac80fae9c7000000001976a9140eab5bea436a0484cfab12485efda0b78b4ecc5288ac00000000'))\n",
    "NetworkEnvelope.parse(stream)"
   ]
  },
  {
   "cell_type": "markdown",
   "metadata": {},
   "source": [
    "### Exercise 11\n",
    "\n",
    "Use https://bitnodes.earn.com/nodes/ to find nodes to connect to.\n",
    "\n",
    "#### 11.1. Run the code below and parse some messages"
   ]
  },
  {
   "cell_type": "code",
   "execution_count": 28,
   "metadata": {},
   "outputs": [
    {
     "name": "stdout",
     "output_type": "stream",
     "text": [
      "b'f9beb4d976657273696f6e00000000006800000019dd02907f1101000d00000000000000e001275a00000000010000000000000000000000000000000000ffffc61b6409208d0d00000000000000000000000000000000000000000000000000553c52a904d620a1122f5361746f7368693a302e31352e302e312f7b98070001f9beb4d976657261636b000000000000000000005df6e0e2'\n"
     ]
    }
   ],
   "source": [
    "import socket\n",
    "from binascii import unhexlify, hexlify\n",
    "s = socket.socket(socket.AF_INET, socket.SOCK_STREAM)\n",
    "msg = unhexlify('f9beb4d976657273696f6e0000000000650000005f1a69d2721101000100000000000000bc8f5e5400000000010000000000000000000000000000000000ffffc61b6409208d010000000000000000000000000000000000ffffcb0071c0208d128035cbc97953f80f2f5361746f7368693a302e392e332fcf05050001')\n",
    "s.connect(('46.101.99.121', 8333))\n",
    "s.sendall(msg)\n",
    "data = s.recv(200)\n",
    "print(hexlify(data))"
   ]
  }
 ],
 "metadata": {
  "kernelspec": {
   "display_name": "Python 3",
   "language": "python",
   "name": "python3"
  },
  "language_info": {
   "codemirror_mode": {
    "name": "ipython",
    "version": 3
   },
   "file_extension": ".py",
   "mimetype": "text/x-python",
   "name": "python",
   "nbconvert_exporter": "python",
   "pygments_lexer": "ipython3",
   "version": "3.5.2"
  }
 },
 "nbformat": 4,
 "nbformat_minor": 2
}
